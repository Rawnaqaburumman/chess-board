{
 "cells": [
  {
   "cell_type": "code",
   "execution_count": 1,
   "id": "4d1e734d-b58f-43e5-8e1c-7781b21b54d9",
   "metadata": {
    "tags": []
   },
   "outputs": [],
   "source": [
    "import numpy as np\n"
   ]
  },
  {
   "cell_type": "code",
   "execution_count": 2,
   "id": "80dc3cd1-7f93-4297-97a5-ac823b126423",
   "metadata": {
    "tags": []
   },
   "outputs": [
    {
     "data": {
      "text/plain": [
       "<module 'numpy' from '/home/rawnaq/401/chess-board/.venv/lib/python3.9/site-packages/numpy/__init__.py'>"
      ]
     },
     "execution_count": 2,
     "metadata": {},
     "output_type": "execute_result"
    }
   ],
   "source": [
    "np\n"
   ]
  },
  {
   "cell_type": "code",
   "execution_count": 3,
   "id": "8be0f879-214f-4570-9481-23100da28fd1",
   "metadata": {},
   "outputs": [],
   "source": [
    "two_dim_array = np.array([ [2,5,6] , [8,3,5] ])\n"
   ]
  },
  {
   "cell_type": "code",
   "execution_count": 4,
   "id": "1bbe93bd-1661-4775-a679-53d9164110ab",
   "metadata": {},
   "outputs": [
    {
     "name": "stdout",
     "output_type": "stream",
     "text": [
      "[[2 5 6]\n",
      " [8 3 5]]\n"
     ]
    }
   ],
   "source": [
    "print(two_dim_array)\n"
   ]
  },
  {
   "cell_type": "code",
   "execution_count": 5,
   "id": "f6bd574d-1ef4-4c4b-a1dc-56e04d4aa838",
   "metadata": {},
   "outputs": [
    {
     "data": {
      "text/plain": [
       "(2, 3)"
      ]
     },
     "execution_count": 5,
     "metadata": {},
     "output_type": "execute_result"
    }
   ],
   "source": [
    "two_dim_array.shape\n"
   ]
  },
  {
   "cell_type": "code",
   "execution_count": 6,
   "id": "c0373be5-e963-4a5a-a1e8-908584f38e4a",
   "metadata": {},
   "outputs": [
    {
     "name": "stdout",
     "output_type": "stream",
     "text": [
      "[2 5 6]\n"
     ]
    }
   ],
   "source": [
    "print(two_dim_array[0])"
   ]
  },
  {
   "cell_type": "code",
   "execution_count": 10,
   "id": "2948ef2e-78be-41e4-a5c8-12e6b7662c33",
   "metadata": {},
   "outputs": [
    {
     "data": {
      "text/plain": [
       "array([6, 5])"
      ]
     },
     "execution_count": 10,
     "metadata": {},
     "output_type": "execute_result"
    }
   ],
   "source": [
    "two_dim_array[:,2]"
   ]
  },
  {
   "cell_type": "code",
   "execution_count": null,
   "id": "4b67c801-b1f1-46c8-88b2-9df8d480f82e",
   "metadata": {},
   "outputs": [],
   "source": []
  }
 ],
 "metadata": {
  "kernelspec": {
   "display_name": "Python 3 (ipykernel)",
   "language": "python",
   "name": "python3"
  },
  "language_info": {
   "codemirror_mode": {
    "name": "ipython",
    "version": 3
   },
   "file_extension": ".py",
   "mimetype": "text/x-python",
   "name": "python",
   "nbconvert_exporter": "python",
   "pygments_lexer": "ipython3",
   "version": "3.9.5"
  }
 },
 "nbformat": 4,
 "nbformat_minor": 5
}
