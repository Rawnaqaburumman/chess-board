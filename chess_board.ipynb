{
 "cells": [
  {
   "cell_type": "code",
   "execution_count": 1,
   "metadata": {},
   "outputs": [],
   "source": [
    "import numpy as np\n",
    "\n",
    "%matplotlib inline\n",
    "import matplotlib.pyplot as plt"
   ]
  },
  {
   "cell_type": "code",
   "execution_count": 2,
   "metadata": {},
   "outputs": [],
   "source": [
    "class ChessBoard:\n",
    "    \n",
    "    def __init__(self):\n",
    "        self.board = np.ones([8,8,3])\n",
    "        for i in np.ndindex(8,8):\n",
    "            row = i[0]\n",
    "            col = i[1]\n",
    "     \n",
    "            if row%2 != col%2:\n",
    "                self.board[row, col] = [0,0,0]\n",
    "            # print(i, self.board[i])\n",
    "    \n",
    "    def add_red(self, row, col):\n",
    "        \n",
    "        \n",
    "            self.redrow=row\n",
    "            self.redcol=col\n",
    "          \n",
    "            self.board[row, col] = [1,.2,0]\n",
    "      \n",
    "   \n",
    "    \n",
    "    def add_blue(self, row, col):\n",
    "            self.bluerow=row\n",
    "            self.bluercol=col\n",
    "        \n",
    "            self.board[row, col] =[0,1,1]\n",
    "       \n",
    "    \n",
    "    def render(self):\n",
    "        plt.imshow(self.board)\n",
    "    \n",
    "    def is_under_attack(self):\n",
    "         \n",
    "        \n",
    "        if  self.bluerow == self.redrow or   self.redcol==  self.redcol:\n",
    "            return True\n",
    "        if abs(self.bluerow-self.redrow)==abs( self.bluercol-self.redcol):\n",
    "            return True\n",
    "               \n",
    "        return False\n",
    "        \n",
    "        \n",
    "      "
   ]
  },
  {
   "cell_type": "code",
   "execution_count": 3,
   "metadata": {
    "tags": []
   },
   "outputs": [
    {
     "name": "stdout",
     "output_type": "stream",
     "text": [
      "Test pass\n",
      "Under attack!!\n"
     ]
    },
    {
     "data": {
      "image/png": "[encoded data removed]",
      "text/plain": [
       "<Figure size 432x288 with 1 Axes>"
      ]
     },
     "metadata": {
      "needs_background": "light"
     },
     "output_type": "display_data"
    }
   ],
   "source": [
    "def test_same_row():\n",
    "    chess_board = ChessBoard()\n",
    "    chess_board.add_red(5,3)\n",
    "    chess_board.add_blue(5,5)\n",
    "    chess_board.render()\n",
    "    assert chess_board.is_under_attack()== True\n",
    "    print('Test pass')\n",
    "    print('Under attack!!')\n",
    "test_same_row()"
   ]
  },
  {
   "cell_type": "code",
   "execution_count": 4,
   "metadata": {},
   "outputs": [
    {
     "name": "stdout",
     "output_type": "stream",
     "text": [
      "Test pass\n",
      "Under attack!!\n"
     ]
    },
    {
     "data": {
      "image/png": "[encoded data removed]",
      "text/plain": [
       "<Figure size 432x288 with 1 Axes>"
      ]
     },
     "metadata": {
      "needs_background": "light"
     },
     "output_type": "display_data"
    }
   ],
   "source": [
    "def test_same_column():\n",
    "    chess_board = ChessBoard()\n",
    "    chess_board.add_red(3,3)\n",
    "    chess_board.add_blue(5,3)\n",
    "    chess_board.render()\n",
    "    assert chess_board.is_under_attack()== True\n",
    "    print('Test pass')\n",
    "    print('Under attack!!')\n",
    "test_same_column()\n",
    "    \n"
   ]
  },
  {
   "cell_type": "code",
   "execution_count": null,
   "metadata": {},
   "outputs": [],
   "source": []
  },
  {
   "cell_type": "code",
   "execution_count": 5,
   "metadata": {},
   "outputs": [
    {
     "name": "stdout",
     "output_type": "stream",
     "text": [
      "Test pass\n",
      "Under attack!!\n"
     ]
    },
    {
     "data": {
      "image/png": "[encoded data removed]",
      "text/plain": [
       "<Figure size 432x288 with 1 Axes>"
      ]
     },
     "metadata": {
      "needs_background": "light"
     },
     "output_type": "display_data"
    }
   ],
   "source": [
    "def test_same_diagonal():\n",
    "    chess_board = ChessBoard()\n",
    "    chess_board.add_red(5,3)\n",
    "    chess_board.add_blue(3,1)\n",
    "    chess_board.render()\n",
    "    assert chess_board.is_under_attack()== True\n",
    "    print('Test pass')\n",
    "    print('Under attack!!')\n",
    "test_same_diagonal()\n",
    "    "
   ]
  },
  {
   "cell_type": "code",
   "execution_count": 16,
   "metadata": {},
   "outputs": [
    {
     "name": "stdout",
     "output_type": "stream",
     "text": [
      "test pass\n",
      "Not Under attack!!\n"
     ]
    },
    {
     "data": {
      "image/png": "[encoded data removed]",
      "text/plain": [
       "<Figure size 432x288 with 1 Axes>"
      ]
     },
     "metadata": {
      "needs_background": "light"
     },
     "output_type": "display_data"
    }
   ],
   "source": [
    "def test_not_under_attack():\n",
    "    chess_board = ChessBoard()\n",
    "    chess_board.add_red(1,5)\n",
    "    chess_board.add_blue(7,4)\n",
    "    chess_board.render()\n",
    "    assert chess_board.is_under_attack()!=False\n",
    "    print(\"test pass\")\n",
    "    print('Not Under attack!!')\n",
    "test_not_under_attack()"
   ]
  },
  {
   "cell_type": "code",
   "execution_count": null,
   "metadata": {},
   "outputs": [],
   "source": []
  },
  {
   "cell_type": "code",
   "execution_count": null,
   "metadata": {},
   "outputs": [],
   "source": []
  },
  {
   "cell_type": "code",
   "execution_count": null,
   "metadata": {},
   "outputs": [],
   "source": []
  }
 ],
 "metadata": {
  "interpreter": {
   "hash": "c7be097a6176e67deba04ae037cbebbfa34abeced90b887f24c7d60cacba1d77"
  },
  "kernelspec": {
   "display_name": "Python 3 (ipykernel)",
   "language": "python",
   "name": "python3"
  },
  "language_info": {
   "codemirror_mode": {
    "name": "ipython",
    "version": 3
   },
   "file_extension": ".py",
   "mimetype": "text/x-python",
   "name": "python",
   "nbconvert_exporter": "python",
   "pygments_lexer": "ipython3",
   "version": "3.9.5"
  }
 },
 "nbformat": 4,
 "nbformat_minor": 4
}
